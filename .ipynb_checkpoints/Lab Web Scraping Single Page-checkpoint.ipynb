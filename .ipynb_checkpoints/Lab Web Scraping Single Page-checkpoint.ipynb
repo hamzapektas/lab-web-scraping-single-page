{
 "cells": [
  {
   "cell_type": "code",
   "execution_count": 1,
   "id": "972a2a55",
   "metadata": {},
   "outputs": [],
   "source": [
    "from bs4 import BeautifulSoup\n",
    "import requests\n",
    "import pandas as pd"
   ]
  },
  {
   "cell_type": "code",
   "execution_count": 2,
   "id": "6aa3d8ee",
   "metadata": {},
   "outputs": [],
   "source": [
    "url = \"https://www.billboard.com/charts/hot-100\""
   ]
  },
  {
   "cell_type": "code",
   "execution_count": 3,
   "id": "d7cb6748",
   "metadata": {},
   "outputs": [
    {
     "data": {
      "text/plain": [
       "200"
      ]
     },
     "execution_count": 3,
     "metadata": {},
     "output_type": "execute_result"
    }
   ],
   "source": [
    "response = requests.get(url)\n",
    "response.status_code "
   ]
  },
  {
   "cell_type": "code",
   "execution_count": 4,
   "id": "19e447ef",
   "metadata": {},
   "outputs": [],
   "source": [
    "soup = BeautifulSoup(response.content, 'html.parser')"
   ]
  },
  {
   "cell_type": "code",
   "execution_count": 5,
   "id": "42517cc7",
   "metadata": {},
   "outputs": [],
   "source": [
    "# print(soup.prettify())"
   ]
  },
  {
   "cell_type": "code",
   "execution_count": 6,
   "id": "783d5706",
   "metadata": {},
   "outputs": [],
   "source": [
    "# soup"
   ]
  },
  {
   "cell_type": "code",
   "execution_count": 7,
   "id": "d7b9978b",
   "metadata": {},
   "outputs": [],
   "source": [
    "# soup.select(\"span.chart-element__information\")"
   ]
  },
  {
   "cell_type": "code",
   "execution_count": 8,
   "id": "ae5c556c",
   "metadata": {},
   "outputs": [
    {
     "name": "stdout",
     "output_type": "stream",
     "text": [
      "\n",
      "Way 2 Sexy\n",
      "Drake Featuring Future & Young Thug\n",
      "\n",
      "-\n",
      "- Last Week\n",
      "1 Peak Rank\n",
      "1 Weeks on Chart\n",
      "\n",
      "\n"
     ]
    }
   ],
   "source": [
    "print(soup.select(\"span.chart-element__information\")[0].get_text())"
   ]
  },
  {
   "cell_type": "code",
   "execution_count": 9,
   "id": "f1e789e8",
   "metadata": {},
   "outputs": [
    {
     "name": "stdout",
     "output_type": "stream",
     "text": [
      "Way 2 Sexy\n"
     ]
    }
   ],
   "source": [
    "print(soup.select(\"span.chart-element__information__song\")[0].get_text())"
   ]
  },
  {
   "cell_type": "code",
   "execution_count": 10,
   "id": "c5d963b4",
   "metadata": {},
   "outputs": [
    {
     "name": "stdout",
     "output_type": "stream",
     "text": [
      "Drake Featuring Future & Young Thug\n"
     ]
    }
   ],
   "source": [
    "print(soup.select(\"span.chart-element__information__artist\")[0].get_text())"
   ]
  },
  {
   "cell_type": "code",
   "execution_count": 11,
   "id": "3c0dde86",
   "metadata": {},
   "outputs": [
    {
     "name": "stdout",
     "output_type": "stream",
     "text": [
      "['Way 2 Sexy', 'Girls Want Girls', 'Fair Trade', 'Champagne Poetry', 'Knife Talk', 'Stay', 'In The Bible', \"Papi's Home\", 'TSU', 'Love All', 'No Friends In The Industry', 'N 2 Deep', 'Bad Habits', 'Pipe Down', 'Good 4 U', '7am On Bridle Path', 'Butter', 'Race My Mind', 'Kiss Me More', 'Industry Baby', 'Fancy Like', 'IMY2', 'Levitating', \"Yebba's Heartbreak\", 'You Only Live Twice', 'Fountains', 'Get Along Better', 'Save Your Tears', 'Hurricane', 'Montero (Call Me By Your Name)', 'Deja Vu', 'Fucking Fans', 'Heat Waves', 'Essence', 'The Remorse', 'You Right', 'Take My Breath', 'Need To Know', \"Beggin'\", 'Leave Before You Love Me', 'Off The Grid', 'Happier Than Ever', \"If I Didn't Love You\", 'Family Ties', 'Pepas', 'Leave The Door Open', 'Peaches', 'Waves', 'Traitor', 'Moon', 'Things A Man Oughta Know', 'Country Again', 'Chasing After You', 'Arcade', 'Rumors', 'Cold Beer Calling My Name', 'Thot Shit', 'Jail', 'Late At Night', 'A-O-K', 'I Was On A Boat That Day', 'Wockesha', 'Sharing Locations', 'Every Chance I Get', 'Ok Ok', 'Praise God', 'Skate', 'Whole Lotta Money', 'Love Again', \"Memory I Don't Mess With\", \"Drinkin' Beer. Talkin' God. Amen.\", 'You Time', 'Todo de Ti', 'Buy Dirt', '2055', 'Cold As You', 'Volvi', 'Junya', \"Drunk (And I Don't Wanna Go Home)\", 'Woman', \"We Didn't Have Much\", 'Gyalis', 'Wild Side', 'Yonaguni', 'Believe What I Say', 'Memory', 'Blue Note$ II', 'Get Into It (Yuh)', 'My Boy', 'Single Saturday Night', 'Jonah', 'You Should Probably Leave', \"Don't Go Yet\", \"Thinking 'Bout You\", 'Jesus Lord', 'Summer Of Love', \"Ain't Shit\", 'Motley Crew', 'Remote Control', 'Baddest']\n",
      "['Drake Featuring Future & Young Thug', 'Drake Featuring Lil Baby', 'Drake Featuring Travis Scott', 'Drake', 'Drake Featuring 21 Savage & Project Pat', 'The Kid LAROI & Justin Bieber', 'Drake Featuring Lil Durk & Giveon', 'Drake', 'Drake', 'Drake Featuring JAY-Z', 'Drake', 'Drake Featuring Future', 'Ed Sheeran', 'Drake', 'Olivia Rodrigo', 'Drake', 'BTS', 'Drake', 'Doja Cat Featuring SZA', 'Lil Nas X & Jack Harlow', 'Walker Hayes', 'Drake Featuring Kid Cudi', 'Dua Lipa', 'Drake & Yebba', 'Drake Featuring Lil Wayne & Rick Ross', 'Drake Featuring Tems', 'Drake Featuring Ty Dolla $ign', 'The Weeknd & Ariana Grande', 'Kanye West', 'Lil Nas X', 'Olivia Rodrigo', 'Drake', 'Glass Animals', 'Wizkid Featuring Justin Bieber & Tems', 'Drake', 'Doja Cat & The Weeknd', 'The Weeknd', 'Doja Cat', 'Maneskin', 'Marshmello X Jonas Brothers', 'Kanye West', 'Billie Eilish', 'Jason Aldean & Carrie Underwood', 'Baby Keem & Kendrick Lamar', 'Farruko', 'Silk Sonic (Bruno Mars & Anderson .Paak)', 'Justin Bieber Featuring Daniel Caesar & Giveon', 'Luke Bryan', 'Olivia Rodrigo', 'Kanye West', 'Lainey Wilson', 'Thomas Rhett', 'Ryan Hurd With Maren Morris', 'Duncan Laurence', 'Lizzo Featuring Cardi B', 'Jameson Rodgers Featuring Luke Combs', 'Megan Thee Stallion', 'Kanye West', 'Roddy Ricch', 'Tai Verdes', 'Old Dominion', 'Moneybagg Yo', 'Meek Mill Featuring Lil Baby & Lil Durk', 'DJ Khaled Featuring Lil Baby & Lil Durk', 'Kanye West', 'Kanye West', 'Silk Sonic (Bruno Mars & Anderson .Paak)', 'BIA Featuring Nicki Minaj', 'Dua Lipa', 'Lee Brice', 'Chase Rice Featuring Florida Georgia Line', 'Scotty McCreery', 'Rauw Alejandro', 'Jordan Davis Featuring Luke Bryan', 'Sleepy Hallow', 'Luke Combs', 'Aventura x Bad Bunny', 'Kanye West', 'Elle King & Miranda Lambert', 'Doja Cat', 'Justin Moore', 'Capella Grey', 'Normani Featuring Cardi B', 'Bad Bunny', 'Kanye West', 'Kane Brown X blackbear', 'Meek Mill Featuring Lil Uzi Vert', 'Doja Cat', 'Elvie Shane', 'Cole Swindell', 'Kanye West', 'Chris Stapleton', 'Camila Cabello', 'Dustin Lynch Featuring Lauren Alaina Or MacKenzie Porter', 'Kanye West', 'Shawn Mendes & Tainy', 'Doja Cat', 'Post Malone', 'Kanye West', 'Yung Bleu, Chris Brown & 2 Chainz']\n"
     ]
    }
   ],
   "source": [
    "song = []\n",
    "artist = []\n",
    "\n",
    "num_iter = len(soup.select(\"span.chart-element__information__song\"))\n",
    "\n",
    "for i in range(num_iter):\n",
    "    song.append(soup.select(\"span.chart-element__information__song\")[i].get_text())\n",
    "    artist.append(soup.select(\"span.chart-element__information__artist\")[i].get_text())\n",
    "\n",
    "print(song)\n",
    "print(artist)"
   ]
  },
  {
   "cell_type": "code",
   "execution_count": 12,
   "id": "ddb6991b",
   "metadata": {},
   "outputs": [
    {
     "data": {
      "text/html": [
       "<div>\n",
       "<style scoped>\n",
       "    .dataframe tbody tr th:only-of-type {\n",
       "        vertical-align: middle;\n",
       "    }\n",
       "\n",
       "    .dataframe tbody tr th {\n",
       "        vertical-align: top;\n",
       "    }\n",
       "\n",
       "    .dataframe thead th {\n",
       "        text-align: right;\n",
       "    }\n",
       "</style>\n",
       "<table border=\"1\" class=\"dataframe\">\n",
       "  <thead>\n",
       "    <tr style=\"text-align: right;\">\n",
       "      <th></th>\n",
       "      <th>song</th>\n",
       "      <th>artist</th>\n",
       "    </tr>\n",
       "  </thead>\n",
       "  <tbody>\n",
       "    <tr>\n",
       "      <th>0</th>\n",
       "      <td>Way 2 Sexy</td>\n",
       "      <td>Drake Featuring Future &amp; Young Thug</td>\n",
       "    </tr>\n",
       "    <tr>\n",
       "      <th>1</th>\n",
       "      <td>Girls Want Girls</td>\n",
       "      <td>Drake Featuring Lil Baby</td>\n",
       "    </tr>\n",
       "    <tr>\n",
       "      <th>2</th>\n",
       "      <td>Fair Trade</td>\n",
       "      <td>Drake Featuring Travis Scott</td>\n",
       "    </tr>\n",
       "    <tr>\n",
       "      <th>3</th>\n",
       "      <td>Champagne Poetry</td>\n",
       "      <td>Drake</td>\n",
       "    </tr>\n",
       "    <tr>\n",
       "      <th>4</th>\n",
       "      <td>Knife Talk</td>\n",
       "      <td>Drake Featuring 21 Savage &amp; Project Pat</td>\n",
       "    </tr>\n",
       "  </tbody>\n",
       "</table>\n",
       "</div>"
      ],
      "text/plain": [
       "               song                                   artist\n",
       "0        Way 2 Sexy      Drake Featuring Future & Young Thug\n",
       "1  Girls Want Girls                 Drake Featuring Lil Baby\n",
       "2        Fair Trade             Drake Featuring Travis Scott\n",
       "3  Champagne Poetry                                    Drake\n",
       "4        Knife Talk  Drake Featuring 21 Savage & Project Pat"
      ]
     },
     "execution_count": 12,
     "metadata": {},
     "output_type": "execute_result"
    }
   ],
   "source": [
    "thehot100 = pd.DataFrame({\"song\":song,\n",
    "                          \"artist\":artist})\n",
    "thehot100.head()"
   ]
  },
  {
   "cell_type": "code",
   "execution_count": null,
   "id": "279b4571",
   "metadata": {},
   "outputs": [],
   "source": []
  }
 ],
 "metadata": {
  "kernelspec": {
   "display_name": "Python 3",
   "language": "python",
   "name": "python3"
  },
  "language_info": {
   "codemirror_mode": {
    "name": "ipython",
    "version": 3
   },
   "file_extension": ".py",
   "mimetype": "text/x-python",
   "name": "python",
   "nbconvert_exporter": "python",
   "pygments_lexer": "ipython3",
   "version": "3.8.8"
  }
 },
 "nbformat": 4,
 "nbformat_minor": 5
}
